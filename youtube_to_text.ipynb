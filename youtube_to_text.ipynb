{
 "cells": [
  {
   "cell_type": "code",
   "execution_count": 28,
   "metadata": {},
   "outputs": [],
   "source": [
    "from utils import *\n",
    "\n",
    "# define the music categories\n",
    "categories = [\n",
    "    \"adil courses\"\n",
    "]\n",
    "\n",
    "# define the number of videos to scrap per category\n",
    "number_of_vids = 1\n",
    "\n",
    "# define the path to save the dataset\n",
    "dataset_path = \"data/\"\n",
    "\n",
    "# create the dataset folder if it doesn't exist\n",
    "if not os.path.exists(dataset_path):\n",
    "    os.makedirs(dataset_path)\n",
    "\n",
    "# create the dataset subfolders if they don't exist\n",
    "for category in categories:\n",
    "    if not os.path.exists(dataset_path + category):\n",
    "        os.makedirs(dataset_path + category)\n",
    "\n",
    "links = {\n",
    "    \"adil courses\": [\"https://youtu.be/HAnw168huqA?si=vhVtv0d9iAgvd-dR\"]\n",
    "}"
   ]
  },
  {
   "cell_type": "code",
   "execution_count": 29,
   "metadata": {},
   "outputs": [
    {
     "name": "stdout",
     "output_type": "stream",
     "text": [
      "Downloading adil courses video 1...\n",
      "Downloading...\n",
      "Downloading...\n",
      "Downloading...\n",
      "Downloading...\n",
      "Downloading...\n",
      "Downloading...\n",
      "Downloading...\n",
      "Downloading...\n",
      "Downloading...\n",
      "Downloading...\n",
      "Downloading...\n",
      "Downloading...\n",
      "Downloading...\n",
      "Downloading...\n",
      "Downloading...\n",
      "Download Complete\n",
      "MoviePy - Writing audio in data/adil courses/adil courses1.wav\n"
     ]
    },
    {
     "name": "stderr",
     "output_type": "stream",
     "text": [
      "                                                                        "
     ]
    },
    {
     "name": "stdout",
     "output_type": "stream",
     "text": [
      "MoviePy - Done.\n",
      "Done!\n"
     ]
    },
    {
     "name": "stderr",
     "output_type": "stream",
     "text": [
      "\r"
     ]
    }
   ],
   "source": [
    "# download the videos and convert them to wav\n",
    "for category in categories:\n",
    "    for i in range(number_of_vids):\n",
    "        print(\"Downloading \" + category + \" video \" + str(i + 1) + \"...\")\n",
    "        # check if the video is already downloaded\n",
    "        if os.path.exists(dataset_path + category + \"/\" + category + str(i + 1) + \".wav\"):\n",
    "            print(\"Video \" + str(i + 1) + \" already exists!\")\n",
    "            continue\n",
    "        yt = YouTube(\n",
    "            links[category][i],\n",
    "            on_progress_callback=on_progress,\n",
    "            on_complete_callback=on_complete,\n",
    "            use_oauth=False,\n",
    "            allow_oauth_cache=True\n",
    "        )\n",
    "        try:\n",
    "            yt.streams.filter(file_extension='mp4', res=\"360p\").first().download(output_path=dataset_path + category, filename=category + str(i + 1) + \".mp4\")\n",
    "        except:\n",
    "            print(\"Error downloading \" + category + \" video \" + str(i + 1) + \"!\")\n",
    "            continue\n",
    "\n",
    "        # Convert video to audio (WAV)\n",
    "        input_file = dataset_path + category + \"/\" + category + str(i + 1) + \".mp4\"\n",
    "        output_file = dataset_path + category + \"/\" + category + str(i + 1) + \".wav\"\n",
    "        convert_mp4_to_wav(input_file, output_file)\n",
    "        os.remove(input_file)\n",
    "\n",
    "print(\"Done!\")"
   ]
  },
  {
   "cell_type": "code",
   "execution_count": 34,
   "metadata": {},
   "outputs": [
    {
     "name": "stdout",
     "output_type": "stream",
     "text": [
      "Extracting text from data/adil courses/adil courses1.wav...\n",
      "Could not understand audiot: 0.2572163475278651%....\n",
      "Could not understand audiot: 0.30865961703343814%...\n",
      "Could not understand audiot: 0.3601028865390111%...\n",
      "Could not understand audiot: 0.41154615604458417%...\n",
      "Could not understand audiot: 0.4629894255501572%...\n",
      "Could not understand audiot: 0.5144326950557302%...\n",
      "Could not understand audiot: 0.5658759645613032%...\n",
      "Could not understand audiot: 0.6173192340668763%...\n",
      "Could not understand audiot: 0.6687625035724493%...\n",
      "Could not understand audiot: 0.7202057730780222%...\n",
      "Could not understand audiot: 0.7716490425835953%...\n",
      "Could not understand audiot: 0.8230923120891683%...\n",
      "Could not understand audiot: 0.8745355815947413%...\n",
      "Could not understand audiot: 0.9259788511003144%...\n",
      "Could not understand audiot: 0.9774221206058874%...\n",
      "Extracted Text:\n"
     ]
    }
   ],
   "source": [
    "import speech_recognition as sr\n",
    "import librosa\n",
    "import soundfile as sf\n",
    "\n",
    "def extract_text_from_wav(wav_file_path, language='en-US'):\n",
    "    # Load the WAV file using librosa\n",
    "    audio, sample_rate = librosa.load(wav_file_path, sr=None)\n",
    "\n",
    "    # Save the audio in a temporary WAV file\n",
    "    temp_wav_path = \"temp_audio.wav\"\n",
    "    if not os.path.exists(temp_wav_path):\n",
    "        sf.write(temp_wav_path, audio, sample_rate)\n",
    "\n",
    "    # Initialize the recognizer\n",
    "    recognizer = sr.Recognizer()\n",
    "\n",
    "    # Perform speech recognition on the entire audio \n",
    "    # by partitioning it into chunks of 3 minutes\n",
    "    text = \"\"\n",
    "    offset = 0\n",
    "    chunk_duration = 3 * 60  # 3 minutes\n",
    "    audio_file = sr.AudioFile(temp_wav_path)\n",
    "    with audio_file as source:\n",
    "        while offset < audio_file.DURATION:\n",
    "            print(\"Extracting text from offset: \" + str(offset/int(audio_file.DURATION)*100) + \"%...\", end='\\r')\n",
    "            offset += chunk_duration\n",
    "            try:\n",
    "                audio_data = recognizer.record(source, duration=chunk_duration, offset=offset)\n",
    "                text += recognizer.recognize_google(audio_data, language=language) + \" \"\n",
    "            except sr.UnknownValueError:\n",
    "                print(\"Could not understand audio\")\n",
    "            except sr.RequestError as e:\n",
    "                print(\n",
    "                    \"Could not request results. check your internet connection; {0}\".format(e))\n",
    "                \n",
    "    # Delete the temporary WAV file\n",
    "    os.remove(temp_wav_path)\n",
    "\n",
    "    if len(text) > 0:\n",
    "        return text\n",
    "    return None\n",
    "\n",
    "# Replace 'your_wav_file.wav' with the path to your WAV file\n",
    "for category in categories:\n",
    "    for i in range(number_of_vids):\n",
    "        wav_file_path = dataset_path + category + \"/\" + category + str(i + 1) + \".wav\"\n",
    "        print(\"Extracting text from \" + wav_file_path + \"...\")\n",
    "        result = extract_text_from_wav(wav_file_path, language='en-US')\n",
    "\n",
    "        if result is not None:\n",
    "            print(\"Extracted Text:\")\n",
    "            # save the text in a txt file\n",
    "            with open(dataset_path + category + \"/\" + category + str(i + 1) + \".txt\", \"w\") as text_file:\n",
    "                text_file.write(result)\n"
   ]
  }
 ],
 "metadata": {
  "kernelspec": {
   "display_name": "Python 3",
   "language": "python",
   "name": "python3"
  },
  "language_info": {
   "codemirror_mode": {
    "name": "ipython",
    "version": 3
   },
   "file_extension": ".py",
   "mimetype": "text/x-python",
   "name": "python",
   "nbconvert_exporter": "python",
   "pygments_lexer": "ipython3",
   "version": "3.11.5"
  }
 },
 "nbformat": 4,
 "nbformat_minor": 2
}
